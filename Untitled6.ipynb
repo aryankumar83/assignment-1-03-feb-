{
 "cells": [
  {
   "cell_type": "code",
   "execution_count": 7,
   "id": "fdad0039",
   "metadata": {},
   "outputs": [],
   "source": [
    "#que 1 : \n",
    "# def keyboard is use to create a function.\n",
    "def create_list():\n",
    "    list = []\n",
    "    for i in range(25):\n",
    "        if i%2!=0:\n",
    "            list.append(i)\n",
    "    return list"
   ]
  },
  {
   "cell_type": "code",
   "execution_count": 8,
   "id": "ee746cc3",
   "metadata": {},
   "outputs": [
    {
     "data": {
      "text/plain": [
       "[1, 3, 5, 7, 9, 11, 13, 15, 17, 19, 21, 23]"
      ]
     },
     "execution_count": 8,
     "metadata": {},
     "output_type": "execute_result"
    }
   ],
   "source": [
    "create_list()"
   ]
  },
  {
   "cell_type": "code",
   "execution_count": 13,
   "id": "d76fe8aa",
   "metadata": {},
   "outputs": [],
   "source": [
    "# que 2 : \n",
    "# to take n numbers of input *args is use in a function argument\n",
    "# to take n numbers of input of key-value pair *kwargs is use in a function\n",
    "def function_args(*args):\n",
    "    return args\n",
    "def function_kwargs(**kwargs):\n",
    "    return kwargs"
   ]
  },
  {
   "cell_type": "code",
   "execution_count": 11,
   "id": "6df6ab00",
   "metadata": {},
   "outputs": [
    {
     "data": {
      "text/plain": [
       "(1, 2, 3)"
      ]
     },
     "execution_count": 11,
     "metadata": {},
     "output_type": "execute_result"
    }
   ],
   "source": [
    "function_args(1,2,3)"
   ]
  },
  {
   "cell_type": "code",
   "execution_count": 15,
   "id": "0bcb92a4",
   "metadata": {},
   "outputs": [
    {
     "data": {
      "text/plain": [
       "{'a': 'aryan', 'b': 'kumar', 'c': 'singh'}"
      ]
     },
     "execution_count": 15,
     "metadata": {},
     "output_type": "execute_result"
    }
   ],
   "source": [
    "function_kwargs(a=\"aryan\",b=\"kumar\",c=\"singh\")"
   ]
  },
  {
   "cell_type": "code",
   "execution_count": 20,
   "id": "f4ddce39",
   "metadata": {},
   "outputs": [
    {
     "name": "stdout",
     "output_type": "stream",
     "text": [
      "2\n",
      "4\n",
      "6\n",
      "8\n",
      "10\n"
     ]
    }
   ],
   "source": [
    "# que 3 :\n",
    "# An iterator is an object that contains a countable number of values. \n",
    "# An iterator is an object that can be iterated upon, meaning that you can traverse through all the values.\n",
    "# Technically, in Python, an iterator is an object which implements the iterator protocol, which consist of the methods __iter__() and __next__() .\n",
    "\n",
    "list_even = [2,4,6,8,10,12,14,16,18,20]\n",
    "for i in range(5):\n",
    "    print( list_even[i])"
   ]
  },
  {
   "cell_type": "code",
   "execution_count": 29,
   "id": "8ee80684",
   "metadata": {},
   "outputs": [],
   "source": [
    "# que 4 :\n",
    "# generator function is A type of function that is memory efficient and can be used like an iterator object.\n",
    "# yield keyword is used to create a generator function.\n",
    "def gener_fun(n):\n",
    "    a,b=0,1\n",
    "    for i in range(n):\n",
    "        yield a\n",
    "        a,b=b,a+b"
   ]
  },
  {
   "cell_type": "code",
   "execution_count": 33,
   "id": "aa4f0dc7",
   "metadata": {},
   "outputs": [
    {
     "name": "stdout",
     "output_type": "stream",
     "text": [
      "0\n",
      "1\n",
      "1\n",
      "2\n",
      "3\n"
     ]
    }
   ],
   "source": [
    "for i in gener_fun(5):\n",
    "    print(i)"
   ]
  },
  {
   "cell_type": "code",
   "execution_count": 46,
   "id": "5546e4be",
   "metadata": {},
   "outputs": [
    {
     "name": "stdout",
     "output_type": "stream",
     "text": [
      "1\n",
      "2\n",
      "3\n",
      "5\n",
      "7\n",
      "11\n",
      "13\n",
      "17\n",
      "19\n",
      "23\n",
      "29\n",
      "31\n",
      "37\n",
      "41\n",
      "43\n",
      "47\n",
      "53\n",
      "59\n",
      "61\n",
      "67\n"
     ]
    }
   ],
   "source": [
    "# que 5 :\n",
    "def genprimenum():\n",
    "    for i in range(1,1000):\n",
    "        count = 0\n",
    "        for j in range(2,i):\n",
    "            if i%j == 0:\n",
    "                count += 1\n",
    "        if count==0:\n",
    "            yield i\n",
    "            \n",
    "    \n",
    "     \n",
    "primenum = iter(genprimenum())\n",
    "for i in range(20):\n",
    "    print(next(primenum))"
   ]
  },
  {
   "cell_type": "code",
   "execution_count": 35,
   "id": "bf282dd4",
   "metadata": {},
   "outputs": [
    {
     "name": "stdout",
     "output_type": "stream",
     "text": [
      "0\n",
      "1\n",
      "1\n",
      "2\n",
      "3\n",
      "5\n",
      "8\n",
      "13\n",
      "21\n",
      "34\n"
     ]
    }
   ],
   "source": [
    "# que 6 :\n",
    "i=0\n",
    "a,b=0,1\n",
    "while(i<10):\n",
    "    print(a)\n",
    "    a,b=b,a+b\n",
    "    i=i+1"
   ]
  },
  {
   "cell_type": "code",
   "execution_count": 47,
   "id": "0c9ff92a",
   "metadata": {},
   "outputs": [
    {
     "name": "stdout",
     "output_type": "stream",
     "text": [
      "['p', 'w', 's', 'k', 'i', 'l', 'l', 's']\n"
     ]
    }
   ],
   "source": [
    "# que 7 :\n",
    "str= \"pwskills\"\n",
    "li=[i for i in str]\n",
    "print(li)"
   ]
  },
  {
   "cell_type": "code",
   "execution_count": 48,
   "id": "2dee356d",
   "metadata": {},
   "outputs": [
    {
     "name": "stdout",
     "output_type": "stream",
     "text": [
      "enter any number131\n",
      "the 131 number is palindrome.\n"
     ]
    }
   ],
   "source": [
    "# que 8 :\n",
    "num = int(input(\"enter any number\"))\n",
    "temp = num\n",
    "rev = 0\n",
    "while(num>0):\n",
    "    dig = num%10\n",
    "    rev =rev*10 + dig\n",
    "    num = num //10\n",
    "if(temp==rev):\n",
    "    print(\"the {0} number is palindrome.\".format(temp))\n",
    "else:\n",
    "    print(\"not a palindrome!\")"
   ]
  },
  {
   "cell_type": "code",
   "execution_count": 49,
   "id": "d78cc7fc",
   "metadata": {},
   "outputs": [
    {
     "name": "stdout",
     "output_type": "stream",
     "text": [
      "[1, 3, 5, 7, 9, 11, 13, 15, 17, 19, 21, 23, 25, 27, 29, 31, 33, 35, 37, 39, 41, 43, 45, 47, 49, 51, 53, 55, 57, 59, 61, 63, 65, 67, 69, 71, 73, 75, 77, 79, 81, 83, 85, 87, 89, 91, 93, 95, 97, 99]\n"
     ]
    }
   ],
   "source": [
    "# que 9 :\n",
    "li1 = [i for i in range(1,101)]\n",
    "li2 = [i for i in li1 if i%2 != 0]\n",
    "print(li2)"
   ]
  }
 ],
 "metadata": {
  "kernelspec": {
   "display_name": "Python 3 (ipykernel)",
   "language": "python",
   "name": "python3"
  },
  "language_info": {
   "codemirror_mode": {
    "name": "ipython",
    "version": 3
   },
   "file_extension": ".py",
   "mimetype": "text/x-python",
   "name": "python",
   "nbconvert_exporter": "python",
   "pygments_lexer": "ipython3",
   "version": "3.10.9"
  }
 },
 "nbformat": 4,
 "nbformat_minor": 5
}
